{
  "cells": [
    {
      "cell_type": "markdown",
      "metadata": {},
      "source": [
        "\n# First example of client usage to create subset.\n\nSince the database will be very large, we almost never want to download the\nentire thing to do some cmt inversions. So, the better workflow is the\nfollowing:\n\n1. Create a regional subset using a server where the database is located\n2. Download file from the server\n3. Load the file with he ``GFManager`` or with the Fortran API ``read_GF``.\n4. Extract Green functions\n\n<div class=\"alert alert-info\"><h4>Note</h4><p>Note that this example cannot be run for the gallery since it requires a\n    server to query from. As a result, all outputs are hand-written and may\n    contain errors. Do note that the examples are created using the database\n    files in the 'examples/DATA/single_element_read/DB' files.</p></div>\n"
      ]
    },
    {
      "cell_type": "markdown",
      "metadata": {},
      "source": [
        "Loading modules\n\n"
      ]
    },
    {
      "cell_type": "code",
      "execution_count": null,
      "metadata": {
        "collapsed": false
      },
      "outputs": [],
      "source": [
        "from gf3d.client import GF3DClient\nfrom gf3d.seismograms import GFManager\nfrom gf3d.source import CMTSOLUTION"
      ]
    },
    {
      "cell_type": "markdown",
      "metadata": {},
      "source": [
        "## GF3DClient\n\nThe client automatically knows about server locations of a given database,\ni.e., they are hard coded.\n\n"
      ]
    },
    {
      "cell_type": "code",
      "execution_count": null,
      "metadata": {
        "collapsed": false
      },
      "outputs": [],
      "source": [
        "gfcl = GF3DClient('example-db')"
      ]
    },
    {
      "cell_type": "markdown",
      "metadata": {},
      "source": [
        "With the client initialized, we can query a dictionary of general parameters\n\n"
      ]
    },
    {
      "cell_type": "code",
      "execution_count": null,
      "metadata": {
        "collapsed": false
      },
      "outputs": [],
      "source": [
        "info = gfcl.get_info()\nprint(info)"
      ]
    },
    {
      "cell_type": "markdown",
      "metadata": {},
      "source": [
        "**OUTPUT:**\n\n.. code:: python\n\n   {'topography': True,\n    'ellipticity': True,\n    'nx_topo': 5400,\n    'ny_topo': 2700,\n    'res_topo': 4.0,\n    'nspl': 628,\n    'NSPEC': 1,\n    'NGLOB': 125,\n    'NGLLX': 5,\n    'NGLLY': 5,\n    'NGLLZ': 5,\n    'dt': 4.900000035000001,\n    'tc': 200.0,\n    'nsteps': 776,\n    'factor': 1e+17,\n    'hdur': 0.700000005,\n    'USE_BUFFER_ELEMENTS': False}\n\n\n"
      ]
    },
    {
      "cell_type": "markdown",
      "metadata": {},
      "source": [
        "We can also retrieve the stations available\n\n"
      ]
    },
    {
      "cell_type": "code",
      "execution_count": null,
      "metadata": {
        "collapsed": false
      },
      "outputs": [],
      "source": [
        "stations = gfcl.stations_avail()\nprint(stations)"
      ]
    },
    {
      "cell_type": "markdown",
      "metadata": {},
      "source": [
        "**OUTPUT:**\n\n.. code:: python\n\n    ['IU.HRV', 'IU.ANMO', 'II.BFO']\n\n\n"
      ]
    },
    {
      "cell_type": "markdown",
      "metadata": {},
      "source": [
        "## Retrieving a subset using the client\n\nNow that we know that we can retrieve information from the server, we can\nquery a subset quite easily as well\n\n"
      ]
    },
    {
      "cell_type": "code",
      "execution_count": null,
      "metadata": {
        "collapsed": false
      },
      "outputs": [],
      "source": [
        "# Set query parameters\nlatitude = -31.1300\nlongitude = -72.0900\ndepth_in_km = 17.3500\nradius_in_km = 100\n\n# Make query\ngfcl.get_subset('firstquery.h5', latitude=latitude, longitude=longitude,\n                depth_in_km=depth_in_km, radius_in_km=radius_in_km)"
      ]
    },
    {
      "cell_type": "markdown",
      "metadata": {},
      "source": [
        "It'll take a minute for the server to create the dataset, and then the download\nshould start and a a progress bar should show the progress.\nThis downloads a regional subset of the database for all stations in the\ndatabase. Let's load the downloaded subset using the Python API's GFManager\n\n"
      ]
    },
    {
      "cell_type": "code",
      "execution_count": null,
      "metadata": {
        "collapsed": false
      },
      "outputs": [],
      "source": [
        "gfm = GFManager('firstquery.h5')\ngfm.load()"
      ]
    },
    {
      "cell_type": "markdown",
      "metadata": {},
      "source": [
        "Now let's retrieve some seismograms using a CMTSOLUTION\n\n"
      ]
    },
    {
      "cell_type": "code",
      "execution_count": null,
      "metadata": {
        "collapsed": false
      },
      "outputs": [],
      "source": [
        "# Read cmt\ncmt = CMTSOLUTION.read('../DATA/single_element_read/CMTSOLUTION')\n\n# Get seismos\nrp = gfm.get_seismograms(cmt)\n\nprint(rp)"
      ]
    },
    {
      "cell_type": "markdown",
      "metadata": {},
      "source": [
        "**OUTPUT:**\n\n.. code:: python\n\n    9 Trace(s) in Stream:\n    IU.HRV..MXN  | 2015-09-16T22:51:12.900000Z - 2015-09-16T23:54:30.400027Z | 0.2 Hz, 776 samples\n    IU.HRV..MXE  | 2015-09-16T22:51:12.900000Z - 2015-09-16T23:54:30.400027Z | 0.2 Hz, 776 samples\n    IU.HRV..MXZ  | 2015-09-16T22:51:12.900000Z - 2015-09-16T23:54:30.400027Z | 0.2 Hz, 776 samples\n    IU.ANMO..MXN | 2015-09-16T22:51:12.900000Z - 2015-09-16T23:54:30.400027Z | 0.2 Hz, 776 samples\n    IU.ANMO..MXE | 2015-09-16T22:51:12.900000Z - 2015-09-16T23:54:30.400027Z | 0.2 Hz, 776 samples\n    IU.ANMO..MXZ | 2015-09-16T22:51:12.900000Z - 2015-09-16T23:54:30.400027Z | 0.2 Hz, 776 samples\n    II.BFO..MXN  | 2015-09-16T22:51:12.900000Z - 2015-09-16T23:54:30.400027Z | 0.2 Hz, 776 samples\n    II.BFO..MXE  | 2015-09-16T22:51:12.900000Z - 2015-09-16T23:54:30.400027Z | 0.2 Hz, 776 samples\n    II.BFO..MXZ  | 2015-09-16T22:51:12.900000Z - 2015-09-16T23:54:30.400027Z | 0.2 Hz, 776 samples\n\n"
      ]
    }
  ],
  "metadata": {
    "kernelspec": {
      "display_name": "Python 3",
      "language": "python",
      "name": "python3"
    },
    "language_info": {
      "codemirror_mode": {
        "name": "ipython",
        "version": 3
      },
      "file_extension": ".py",
      "mimetype": "text/x-python",
      "name": "python",
      "nbconvert_exporter": "python",
      "pygments_lexer": "ipython3",
      "version": "3.11.0"
    }
  },
  "nbformat": 4,
  "nbformat_minor": 0
}