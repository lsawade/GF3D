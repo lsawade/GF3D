{
  "cells": [
    {
      "cell_type": "markdown",
      "metadata": {},
      "source": [
        "\n# Aligned Station Section\n\nThe tutorial will go over the reading of a subset file by loading one that is\nincluded in the directory. At the end we plot an aligned section of waveforms\nusing built-in plotting tools.\n\n## Loading all modules\n"
      ]
    },
    {
      "cell_type": "code",
      "execution_count": null,
      "metadata": {
        "collapsed": false
      },
      "outputs": [],
      "source": [
        "# External\nimport matplotlib.pyplot as plt\nfrom obspy import read, read_inventory, Stream\n\n# Internal\nfrom gf3d.source import CMTSOLUTION\nfrom gf3d.seismograms import GFManager\nfrom gf3d.process import process_stream, select_pairs\nfrom gf3d.plot.util import set_default_color\nfrom gf3d.plot.section_aligned import plotsection_aligned, get_azimuth_distance_traveltime, filter_stations"
      ]
    },
    {
      "cell_type": "markdown",
      "metadata": {},
      "source": [
        "Load CMTSOLUTION, observed data, and Green functions\n\n"
      ]
    },
    {
      "cell_type": "code",
      "execution_count": null,
      "metadata": {
        "collapsed": false
      },
      "outputs": [],
      "source": [
        "# CMTSOLUTION\ncmt = CMTSOLUTION.read('../../DATA/single_element_read/CMTSOLUTION')\n\n# Load subset\ngfsub = GFManager(\"../../DATA/single_element_read/single_element.h5\")\ngfsub.load()\n\n# Load Observed Data\nraw = read(\"../../DATA/single_element_read/traces/*.sac\")\ninv = read_inventory(\"../../DATA/single_element_read/station.xml\")"
      ]
    },
    {
      "cell_type": "code",
      "execution_count": null,
      "metadata": {
        "collapsed": false
      },
      "outputs": [],
      "source": [
        "rp = gfsub.get_seismograms(cmt)"
      ]
    },
    {
      "cell_type": "code",
      "execution_count": null,
      "metadata": {
        "collapsed": false
      },
      "outputs": [],
      "source": [
        "obs = process_stream(raw, inv=inv, cmt=cmt, duration=3600)\nsyn = process_stream(rp, cmt=cmt, duration=3600)"
      ]
    },
    {
      "cell_type": "code",
      "execution_count": null,
      "metadata": {
        "collapsed": false
      },
      "outputs": [],
      "source": [
        "windowP = (-100, 250)\nwindowS = (-100, 250)\npobs, psyn = select_pairs(obs, syn)\n\n# For pwaves\nPobs, Psyn = get_azimuth_distance_traveltime(\n    cmt, pobs, psyn, comp='Z',\n    traveltime_window=('P', windowP))\n\nSobs, Ssyn = get_azimuth_distance_traveltime(\n    cmt, pobs, psyn, comp='Z',\n    traveltime_window=('S', windowS))"
      ]
    },
    {
      "cell_type": "code",
      "execution_count": null,
      "metadata": {
        "collapsed": false
      },
      "outputs": [],
      "source": [
        "selection = filter_stations(Pobs, Sobs)\n\nPobs = Stream([Pobs[_i] for _i in selection])\nPsyn = Stream([Psyn[_i] for _i in selection])\nSobs = Stream([Sobs[_i] for _i in selection])\nSsyn = Stream([Ssyn[_i] for _i in selection])"
      ]
    },
    {
      "cell_type": "code",
      "execution_count": null,
      "metadata": {
        "collapsed": false
      },
      "outputs": [],
      "source": [
        "# Plots a section of observed and synthetic\nfig = plt.figure(figsize=(6, 4))\n\n# Plot Arrivals around ak135 P arrival\nax = plt.subplot(1, 2, 1)\nplotsection_aligned(\n    Pobs, Psyn, cmt, comp='Z', lw=1.0, ax=ax,\n    traveltime_window=('P', windowP), labelright=False)\n\n# Plot Arrivals around ak135 S arrival\nax = plt.subplot(1, 2, 2)\nplotsection_aligned(\n    Sobs, Ssyn, cmt, comp='Z', lw=1.0, ax=ax,\n    traveltime_window=('S', windowS), labelleft=False)\n\n# Set Title\ntitle = (f\"{cmt.cmt_time.ctime()} \"\n         f\"Loc: {cmt.latitude:.2f}dg, {cmt.longitude:.2f}dg, {cmt.depth:.1f}km\"\n         f\" - BP: [40s, 300s]\")\nfig.suptitle(title, fontsize='small')\n\n# Adjust plot\nplt.subplots_adjust(left=0.1, right=0.85, bottom=0.1, top=0.9, wspace=0.1)\n\nplt.show()"
      ]
    }
  ],
  "metadata": {
    "kernelspec": {
      "display_name": "Python 3",
      "language": "python",
      "name": "python3"
    },
    "language_info": {
      "codemirror_mode": {
        "name": "ipython",
        "version": 3
      },
      "file_extension": ".py",
      "mimetype": "text/x-python",
      "name": "python",
      "nbconvert_exporter": "python",
      "pygments_lexer": "ipython3",
      "version": "3.11.0"
    }
  },
  "nbformat": 4,
  "nbformat_minor": 0
}