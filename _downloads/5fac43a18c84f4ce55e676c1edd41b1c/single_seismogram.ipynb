{
  "cells": [
    {
      "cell_type": "markdown",
      "metadata": {},
      "source": [
        "\n# Single Seismogram\n\nThe tutorial will go over the reading of a subset file by loading one that is\nincluded in the Github repository. At the end, we plot the waveforms using\nbuilt-in plotting tools.\n\n## Loading all modules\n"
      ]
    },
    {
      "cell_type": "code",
      "execution_count": null,
      "metadata": {
        "collapsed": false
      },
      "outputs": [],
      "source": [
        "# External\nimport matplotlib.pyplot as plt\nfrom obspy import read, read_inventory\n\n# Internal\nfrom gf3d.source import CMTSOLUTION\nfrom gf3d.seismograms import GFManager\nfrom gf3d.process import process_stream\nfrom gf3d.plot.seismogram import plotseismogram"
      ]
    },
    {
      "cell_type": "markdown",
      "metadata": {},
      "source": [
        "Getting a CMTSOLUTION\n\n"
      ]
    },
    {
      "cell_type": "code",
      "execution_count": null,
      "metadata": {
        "collapsed": false
      },
      "outputs": [],
      "source": [
        "# CMTSOLUTION\ncmt = CMTSOLUTION.read('../../DATA/single_element_read/CMTSOLUTION')\nprint(cmt)"
      ]
    },
    {
      "cell_type": "markdown",
      "metadata": {},
      "source": [
        "Loading the subset database\n\n"
      ]
    },
    {
      "cell_type": "code",
      "execution_count": null,
      "metadata": {
        "collapsed": false
      },
      "outputs": [],
      "source": [
        "gfsub = GFManager(\"../../DATA/single_element_read/single_element.h5\")\ngfsub.load()"
      ]
    },
    {
      "cell_type": "markdown",
      "metadata": {},
      "source": [
        "Load Observed Data and response files\n\n"
      ]
    },
    {
      "cell_type": "code",
      "execution_count": null,
      "metadata": {
        "collapsed": false
      },
      "outputs": [],
      "source": [
        "raw = read(\"../../DATA/single_element_read/traces/*.sac\")\ninv = read_inventory(\"../../DATA/single_element_read/station.xml\")"
      ]
    },
    {
      "cell_type": "markdown",
      "metadata": {},
      "source": [
        "Note that the data has been downloaded from IRIS previously, but it has not\nbeen processed. Now, we can query the database for synthetic seismograms\ncorresponding to the observed ones.\n\n"
      ]
    },
    {
      "cell_type": "code",
      "execution_count": null,
      "metadata": {
        "collapsed": false
      },
      "outputs": [],
      "source": [
        "rp = gfsub.get_seismograms(cmt)"
      ]
    },
    {
      "cell_type": "markdown",
      "metadata": {},
      "source": [
        "Then, we select the station in question and process both observed and\nsynthetics seismograms for a band-pass of [40-300].\n\n"
      ]
    },
    {
      "cell_type": "code",
      "execution_count": null,
      "metadata": {
        "collapsed": false
      },
      "outputs": [],
      "source": [
        "network = 'II'\nstation = 'BFO'\nobs = process_stream(\n    raw.select(network=network, station=station), inv=inv, cmt=cmt, duration=3600)\nsyn = process_stream(\n    rp.select(network=network, station=station), cmt=cmt, duration=3600)"
      ]
    },
    {
      "cell_type": "markdown",
      "metadata": {},
      "source": [
        "Set plot limits and plot seismogram\n\n"
      ]
    },
    {
      "cell_type": "code",
      "execution_count": null,
      "metadata": {
        "collapsed": false
      },
      "outputs": [],
      "source": [
        "starttimeoffset = 500.0\nendtimeoffset = 0.0\nduration = 1000.0\nlimits = \\\n    syn[0].stats.starttime + starttimeoffset, \\\n    syn[0].stats.starttime + starttimeoffset + duration + endtimeoffset\n\nplotseismogram(obs, syn, cmt, limits=limits)\nplt.show()"
      ]
    },
    {
      "cell_type": "markdown",
      "metadata": {},
      "source": [
        "Note that the seismograms are offset for clarity.\n\n"
      ]
    }
  ],
  "metadata": {
    "kernelspec": {
      "display_name": "Python 3",
      "language": "python",
      "name": "python3"
    },
    "language_info": {
      "codemirror_mode": {
        "name": "ipython",
        "version": 3
      },
      "file_extension": ".py",
      "mimetype": "text/x-python",
      "name": "python",
      "nbconvert_exporter": "python",
      "pygments_lexer": "ipython3",
      "version": "3.11.0"
    }
  },
  "nbformat": 4,
  "nbformat_minor": 0
}