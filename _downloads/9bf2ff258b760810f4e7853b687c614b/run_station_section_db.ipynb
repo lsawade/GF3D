{
  "cells": [
    {
      "cell_type": "markdown",
      "metadata": {},
      "source": [
        "\n# Station Section\n\nThe tutorial will go over the reading of station files from a database by\nloading one that is included in the github repo. At the end, we plot a station\nsection of waveforms using built-in plotting tools.\n\n## Loading all modules\n"
      ]
    },
    {
      "cell_type": "code",
      "execution_count": null,
      "metadata": {
        "collapsed": false
      },
      "outputs": [],
      "source": [
        ""
      ]
    },
    {
      "cell_type": "markdown",
      "metadata": {},
      "source": [
        "External\n\n"
      ]
    },
    {
      "cell_type": "code",
      "execution_count": null,
      "metadata": {
        "collapsed": false
      },
      "outputs": [],
      "source": [
        "from glob import glob\nimport matplotlib.pyplot as plt\nfrom obspy import read, read_inventory, Stream\n\n# Internal\nfrom gf3d.source import CMTSOLUTION\nfrom gf3d.seismograms import GFManager\nfrom gf3d.process import process_stream, select_pairs\nfrom gf3d.plot.section import plotsection"
      ]
    },
    {
      "cell_type": "markdown",
      "metadata": {},
      "source": [
        "Read observed data and event parameters\n\n"
      ]
    },
    {
      "cell_type": "code",
      "execution_count": null,
      "metadata": {
        "collapsed": false
      },
      "outputs": [],
      "source": [
        "# CMTSOLUTION\ncmt = CMTSOLUTION.read('../../DATA/single_element_read/CMTSOLUTION')\n\n# Load Observed Data\nraw = read(\"../../DATA/single_element_read/traces/*.sac\")\ninv = read_inventory(\"../../DATA/single_element_read/station.xml\")"
      ]
    },
    {
      "cell_type": "markdown",
      "metadata": {},
      "source": [
        "Get seismograms from the database\n\n"
      ]
    },
    {
      "cell_type": "code",
      "execution_count": null,
      "metadata": {
        "collapsed": false
      },
      "outputs": [],
      "source": [
        "# Load subset\ngfm = GFManager(glob('../../DATA/single_element_read/DB/*/*/*.*.h5'))\ngfm.load_header_variables()\n\n# You will have to load a subset of elements first (just one here for storage reasons)\ngfm.get_elements(cmt.latitude, cmt.longitude, cmt.depth, 100, NGLL=5)\n\n# Finally you can read the seismograms.\nrp = gfm.get_seismograms(cmt)"
      ]
    },
    {
      "cell_type": "code",
      "execution_count": null,
      "metadata": {
        "collapsed": false
      },
      "outputs": [],
      "source": [
        "obs = process_stream(raw, inv=inv, cmt=cmt, duration=3300)\nsyn = process_stream(rp, cmt=cmt, duration=3300)\n\n# obs = raw\n# syn = rp"
      ]
    },
    {
      "cell_type": "markdown",
      "metadata": {},
      "source": [
        "Note that the only 3 stations (II.BFO, IU.ANMO, IU.HRV) are in the example\ndatabase, which means that the observed data that we downloaded for the\nexample subset file includes other stations\n\n"
      ]
    },
    {
      "cell_type": "code",
      "execution_count": null,
      "metadata": {
        "collapsed": false
      },
      "outputs": [],
      "source": [
        "pobs, psyn = select_pairs(obs, syn)"
      ]
    },
    {
      "cell_type": "markdown",
      "metadata": {},
      "source": [
        "So, don't worry about the 'Cant find <Network>.<Station>..<Component>.\n\nPlot section with the data\n\n"
      ]
    },
    {
      "cell_type": "code",
      "execution_count": null,
      "metadata": {
        "collapsed": false
      },
      "outputs": [],
      "source": [
        "starttime = pobs[0].stats.starttime + 0\nendtime = starttime + 3300\nlimits = (starttime, endtime)\n\n# Plots a section of observed and synthetic\nplotsection(pobs, psyn, cmt, comp='Z', lw=0.75, limits=limits)\n\nplt.show()"
      ]
    }
  ],
  "metadata": {
    "kernelspec": {
      "display_name": "Python 3",
      "language": "python",
      "name": "python3"
    },
    "language_info": {
      "codemirror_mode": {
        "name": "ipython",
        "version": 3
      },
      "file_extension": ".py",
      "mimetype": "text/x-python",
      "name": "python",
      "nbconvert_exporter": "python",
      "pygments_lexer": "ipython3",
      "version": "3.11.0"
    }
  },
  "nbformat": 4,
  "nbformat_minor": 0
}