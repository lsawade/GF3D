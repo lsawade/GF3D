{
  "cells": [
    {
      "cell_type": "markdown",
      "metadata": {},
      "source": [
        "\n# Single Seismogram\n\nThe tutorial will go over the reading of a three component seismogram from a\nstation file in the database by loading one that is included in the Github repo.\nAt the end, we plot the seismograms using built-in plotting tools.\n\n## Loading all modules\n"
      ]
    },
    {
      "cell_type": "code",
      "execution_count": null,
      "metadata": {
        "collapsed": false
      },
      "outputs": [],
      "source": [
        ""
      ]
    },
    {
      "cell_type": "code",
      "execution_count": null,
      "metadata": {
        "collapsed": false
      },
      "outputs": [],
      "source": [
        "# External\nimport matplotlib.pyplot as plt\nfrom obspy import read, read_inventory, Stream\n\n# Internal\nfrom gf3d.source import CMTSOLUTION\nfrom gf3d.seismograms import GFManager, get_seismograms\nfrom gf3d.process import process_stream\nfrom gf3d.plot.seismogram import plotseismogram"
      ]
    },
    {
      "cell_type": "markdown",
      "metadata": {},
      "source": [
        "Getting a CMTSOLUTION and load data\n\n"
      ]
    },
    {
      "cell_type": "code",
      "execution_count": null,
      "metadata": {
        "collapsed": false
      },
      "outputs": [],
      "source": [
        "# CMTSOLUTION\ncmt = CMTSOLUTION.read('../../DATA/single_element_read/CMTSOLUTION')\nprint(cmt)\n\nraw = read(\"../../DATA/single_element_read/traces/*.sac\")\ninv = read_inventory(\"../../DATA/single_element_read/station.xml\")"
      ]
    },
    {
      "cell_type": "markdown",
      "metadata": {},
      "source": [
        "Note that the data has been downloaded from IRIS previously, but it has not\nbeen processed. Now, we can query the database for synthetic seismograms\ncorresponding to the observed ones.\n\n"
      ]
    },
    {
      "cell_type": "markdown",
      "metadata": {},
      "source": [
        "Loading a single station file from the database\n\n"
      ]
    },
    {
      "cell_type": "code",
      "execution_count": null,
      "metadata": {
        "collapsed": false
      },
      "outputs": [],
      "source": [
        "# Load subset\nfilename = '../../DATA/single_element_read/DB/II/BFO/II.BFO.h5'\n\ngfm = GFManager([filename])\ngfm.load_header_variables()\n\n# You will have to load a subset of elements first (just one here for storage reasons)\ngfm.get_elements(cmt.latitude, cmt.longitude, cmt.depth, 100, NGLL=5)\n\n# Finally you can read the seismograms.\nrp = gfm.get_seismograms(cmt)"
      ]
    },
    {
      "cell_type": "markdown",
      "metadata": {},
      "source": [
        "Then, we select the station in question and process both observed and\nsynthetics seismograms for a band-pass of [40-300].\n\n"
      ]
    },
    {
      "cell_type": "code",
      "execution_count": null,
      "metadata": {
        "collapsed": false
      },
      "outputs": [],
      "source": [
        "network = 'II'\nstation = 'BFO'\nobs = process_stream(\n    raw.select(network=network, station=station), inv=inv, cmt=cmt, duration=3300)\nsyn = process_stream(\n    rp.select(network=network, station=station), cmt=cmt, duration=3300)"
      ]
    },
    {
      "cell_type": "markdown",
      "metadata": {},
      "source": [
        "Set plot limits and plot seismogram\n\n"
      ]
    },
    {
      "cell_type": "code",
      "execution_count": null,
      "metadata": {
        "collapsed": false
      },
      "outputs": [],
      "source": [
        "starttimeoffset = 0.0\nendtimeoffset = 0.0\nduration = 3600\nlimits = \\\n    obs[0].stats.starttime + starttimeoffset, \\\n    obs[0].stats.starttime + starttimeoffset + duration + endtimeoffset\n\nplotseismogram(obs, syn, cmt, limits=limits, nooffset=True, lw=0.25)\n\nplt.show()"
      ]
    },
    {
      "cell_type": "markdown",
      "metadata": {},
      "source": [
        "The seismograms are offset for clarity so that they are easy to read.s\n\n"
      ]
    }
  ],
  "metadata": {
    "kernelspec": {
      "display_name": "Python 3",
      "language": "python",
      "name": "python3"
    },
    "language_info": {
      "codemirror_mode": {
        "name": "ipython",
        "version": 3
      },
      "file_extension": ".py",
      "mimetype": "text/x-python",
      "name": "python",
      "nbconvert_exporter": "python",
      "pygments_lexer": "ipython3",
      "version": "3.11.0"
    }
  },
  "nbformat": 4,
  "nbformat_minor": 0
}