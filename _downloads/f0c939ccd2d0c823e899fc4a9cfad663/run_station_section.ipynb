{
  "cells": [
    {
      "cell_type": "markdown",
      "metadata": {},
      "source": [
        "\n# Station Section\n\nThe tutorial will go over the reading of a subset file by loading one that is\nincluded in the directory. At the end we plot a station section of waveforms\nusing built-in plotting tools.\n\n## Loading all modules\n"
      ]
    },
    {
      "cell_type": "code",
      "execution_count": null,
      "metadata": {
        "collapsed": false
      },
      "outputs": [],
      "source": [
        "# External\nimport numpy as np\nfrom gf3d.signal.filter import butter_low_two_pass_filter\nimport matplotlib.pyplot as plt\nfrom obspy import read, read_inventory, Stream\n\n# Internal\nfrom gf3d.source import CMTSOLUTION\nfrom gf3d.seismograms import GFManager\nfrom gf3d.process import process_stream, select_pairs\nfrom gf3d.plot.section import plotsection"
      ]
    },
    {
      "cell_type": "markdown",
      "metadata": {},
      "source": [
        "half duration:  33.4000\n\n"
      ]
    },
    {
      "cell_type": "code",
      "execution_count": null,
      "metadata": {
        "collapsed": false
      },
      "outputs": [],
      "source": [
        "# CMTSOLUTION\ncmt = CMTSOLUTION.read('../../DATA/single_element_read/CMTSOLUTION')\n\n# Load subset\ngfsub = GFManager(\"../../DATA/single_element_read/single_element.h5\")\ngfsub.load()\n\n# Load Observed Data\nraw = read(\"../../DATA/single_element_read/traces/*.sac\")\ninv = read_inventory(\"../../DATA/single_element_read/station.xml\")"
      ]
    },
    {
      "cell_type": "code",
      "execution_count": null,
      "metadata": {
        "collapsed": false
      },
      "outputs": [],
      "source": [
        "rp = gfsub.get_seismograms(cmt)"
      ]
    },
    {
      "cell_type": "code",
      "execution_count": null,
      "metadata": {
        "collapsed": false
      },
      "outputs": [],
      "source": [
        "# obs = process_stream(raw, inv=inv, cmt=cmt, duration=3600)\nobs = process_stream(raw, inv=inv, cmt=cmt, duration=3300)\nsyn = process_stream(rp, cmt=cmt, duration=3300)"
      ]
    },
    {
      "cell_type": "code",
      "execution_count": null,
      "metadata": {
        "collapsed": false
      },
      "outputs": [],
      "source": [
        "pobs, psyn = select_pairs(obs, syn)"
      ]
    },
    {
      "cell_type": "code",
      "execution_count": null,
      "metadata": {
        "collapsed": false
      },
      "outputs": [],
      "source": [
        "starttime = psyn[0].stats.starttime + 0\nendtime = starttime + 3300\nlimits = (starttime, endtime)\n\n# Plots a section of observed and synthetic\nplotsection(pobs, psyn, cmt, comp='Z', lw=0.75, limits=limits)\n\nplt.show()"
      ]
    }
  ],
  "metadata": {
    "kernelspec": {
      "display_name": "Python 3",
      "language": "python",
      "name": "python3"
    },
    "language_info": {
      "codemirror_mode": {
        "name": "ipython",
        "version": 3
      },
      "file_extension": ".py",
      "mimetype": "text/x-python",
      "name": "python",
      "nbconvert_exporter": "python",
      "pygments_lexer": "ipython3",
      "version": "3.11.0"
    }
  },
  "nbformat": 4,
  "nbformat_minor": 0
}